{
 "cells": [
  {
   "cell_type": "markdown",
   "metadata": {
    "id": "slT8-373bTc1"
   },
   "source": [
    "**1) Data Ingestion and** **Preprocessing**"
   ]
  },
  {
   "cell_type": "code",
   "execution_count": 2,
   "metadata": {
    "colab": {
     "base_uri": "https://localhost:8080/"
    },
    "id": "xmRKnytR-enC",
    "outputId": "e9a6a298-a24d-4aa5-b2d5-d066dc316d03"
   },
   "outputs": [
    {
     "name": "stdout",
     "output_type": "stream",
     "text": [
      "Movies Shape: (9742, 3)\n",
      "Ratings Shape: (100836, 4)\n",
      "Tags Shape: (3683, 4)\n",
      "Links Shape: (9742, 3)\n",
      "\n",
      "Movies Sample:\n",
      "    movieId                               title  \\\n",
      "0        1                    Toy Story (1995)   \n",
      "1        2                      Jumanji (1995)   \n",
      "2        3             Grumpier Old Men (1995)   \n",
      "3        4            Waiting to Exhale (1995)   \n",
      "4        5  Father of the Bride Part II (1995)   \n",
      "\n",
      "                                        genres  \n",
      "0  Adventure|Animation|Children|Comedy|Fantasy  \n",
      "1                   Adventure|Children|Fantasy  \n",
      "2                               Comedy|Romance  \n",
      "3                         Comedy|Drama|Romance  \n",
      "4                                       Comedy  \n",
      "\n",
      "Ratings Sample:\n",
      "    userId  movieId  rating  timestamp\n",
      "0       1        1     4.0  964982703\n",
      "1       1        3     4.0  964981247\n",
      "2       1        6     4.0  964982224\n",
      "3       1       47     5.0  964983815\n",
      "4       1       50     5.0  964982931\n",
      "\n",
      "Tags Sample:\n",
      "    userId  movieId              tag   timestamp\n",
      "0       2    60756            funny  1445714994\n",
      "1       2    60756  Highly quotable  1445714996\n",
      "2       2    60756     will ferrell  1445714992\n",
      "3       2    89774     Boxing story  1445715207\n",
      "4       2    89774              MMA  1445715200\n",
      "\n",
      "Links Sample:\n",
      "    movieId  imdbId   tmdbId\n",
      "0        1  114709    862.0\n",
      "1        2  113497   8844.0\n",
      "2        3  113228  15602.0\n",
      "3        4  114885  31357.0\n",
      "4        5  113041  11862.0\n"
     ]
    }
   ],
   "source": [
    "import pandas as pd\n",
    "\n",
    "movies = pd.read_csv(\"movies.csv\")\n",
    "ratings = pd.read_csv(\"ratings.csv\")\n",
    "tags = pd.read_csv(\"tags.csv\")\n",
    "links = pd.read_csv(\"links.csv\")\n",
    "\n",
    "print(\"Movies Shape:\", movies.shape)\n",
    "print(\"Ratings Shape:\", ratings.shape)\n",
    "print(\"Tags Shape:\", tags.shape)\n",
    "print(\"Links Shape:\", links.shape)\n",
    "\n",
    "print(\"\\nMovies Sample:\\n\", movies.head())\n",
    "print(\"\\nRatings Sample:\\n\", ratings.head())\n",
    "print(\"\\nTags Sample:\\n\", tags.head())\n",
    "print(\"\\nLinks Sample:\\n\", links.head())\n"
   ]
  },
  {
   "cell_type": "code",
   "execution_count": 3,
   "metadata": {
    "colab": {
     "base_uri": "https://localhost:8080/"
    },
    "id": "2WjOZThti3aO",
    "outputId": "54ab4ab6-5675-4358-b6af-3ec86a392946"
   },
   "outputs": [
    {
     "name": "stdout",
     "output_type": "stream",
     "text": [
      "\n",
      "Missing Values:\n",
      "\n",
      "Movies:\n",
      " movieId    0\n",
      "title      0\n",
      "genres     0\n",
      "dtype: int64\n",
      "Ratings:\n",
      " userId       0\n",
      "movieId      0\n",
      "rating       0\n",
      "timestamp    0\n",
      "dtype: int64\n",
      "Tags:\n",
      " userId       0\n",
      "movieId      0\n",
      "tag          0\n",
      "timestamp    0\n",
      "dtype: int64\n",
      "Links:\n",
      " movieId    0\n",
      "imdbId     0\n",
      "tmdbId     8\n",
      "dtype: int64\n"
     ]
    }
   ],
   "source": [
    "\n",
    "print(\"\\nMissing Values:\\n\")\n",
    "print(\"Movies:\\n\", movies.isnull().sum())\n",
    "print(\"Ratings:\\n\", ratings.isnull().sum())\n",
    "print(\"Tags:\\n\", tags.isnull().sum())\n",
    "print(\"Links:\\n\", links.isnull().sum())\n"
   ]
  },
  {
   "cell_type": "code",
   "execution_count": 4,
   "metadata": {
    "id": "31f5G6hUi8om"
   },
   "outputs": [],
   "source": [
    "\n",
    "movies['genres'] = movies['genres'].fillna('(no genres listed)')\n",
    "\n",
    "tags.dropna(inplace=True)\n",
    "\n",
    "movies['movieId'] = movies['movieId'].astype(int)\n",
    "ratings['movieId'] = ratings['movieId'].astype(int)\n",
    "tags['movieId'] = tags['movieId'].astype(int)\n",
    "links['movieId'] = links['movieId'].astype(int)\n",
    "\n",
    "movies.drop_duplicates(inplace=True)\n",
    "ratings.drop_duplicates(inplace=True)\n",
    "tags.drop_duplicates(inplace=True)\n",
    "links.drop_duplicates(inplace=True)\n"
   ]
  },
  {
   "cell_type": "code",
   "execution_count": 5,
   "metadata": {
    "id": "L7UPg8UGjBUH"
   },
   "outputs": [],
   "source": [
    "\n",
    "ratings_movies = pd.merge(ratings, movies, on='movieId', how='left')\n",
    "\n",
    "ratings_movies_tags = pd.merge(ratings_movies, tags[['userId', 'movieId', 'tag']], on=['userId', 'movieId'], how='left')\n",
    "\n",
    "\n",
    "ratings_movies_full = pd.merge(ratings_movies_tags, links, on='movieId', how='left')\n"
   ]
  },
  {
   "cell_type": "code",
   "execution_count": 6,
   "metadata": {
    "colab": {
     "base_uri": "https://localhost:8080/"
    },
    "id": "5iHBKFcOjE2J",
    "outputId": "8ba609a1-14f0-4441-d7db-c4be25bba0e3"
   },
   "outputs": [
    {
     "name": "stdout",
     "output_type": "stream",
     "text": [
      "userId           0\n",
      "movieId          0\n",
      "rating           0\n",
      "timestamp        0\n",
      "title            0\n",
      "genres           0\n",
      "tag          99201\n",
      "imdbId           0\n",
      "tmdbId          13\n",
      "dtype: int64\n",
      "   userId  movieId  rating  timestamp                        title  \\\n",
      "0       1        1     4.0  964982703             Toy Story (1995)   \n",
      "1       1        3     4.0  964981247      Grumpier Old Men (1995)   \n",
      "2       1        6     4.0  964982224                  Heat (1995)   \n",
      "3       1       47     5.0  964983815  Seven (a.k.a. Se7en) (1995)   \n",
      "4       1       50     5.0  964982931   Usual Suspects, The (1995)   \n",
      "\n",
      "                                        genres  tag  imdbId   tmdbId  \n",
      "0  Adventure|Animation|Children|Comedy|Fantasy  NaN  114709    862.0  \n",
      "1                               Comedy|Romance  NaN  113228  15602.0  \n",
      "2                        Action|Crime|Thriller  NaN  113277    949.0  \n",
      "3                             Mystery|Thriller  NaN  114369    807.0  \n",
      "4                       Crime|Mystery|Thriller  NaN  114814    629.0  \n"
     ]
    }
   ],
   "source": [
    "\n",
    "print(ratings_movies_full.isnull().sum())\n",
    "\n",
    "print(ratings_movies_full.head())\n"
   ]
  },
  {
   "cell_type": "code",
   "execution_count": 11,
   "metadata": {
    "colab": {
     "base_uri": "https://localhost:8080/"
    },
    "id": "JXwmI0V-jce8",
    "outputId": "909505d6-4ab1-4b83-f454-e06d7e20b7d8"
   },
   "outputs": [
    {
     "name": "stdout",
     "output_type": "stream",
     "text": [
      "   userId  movieId  rating                        title  \\\n",
      "0       1        1     4.0             Toy Story (1995)   \n",
      "1       1        3     4.0      Grumpier Old Men (1995)   \n",
      "2       1        6     4.0                  Heat (1995)   \n",
      "3       1       47     5.0  Seven (a.k.a. Se7en) (1995)   \n",
      "4       1       50     5.0   Usual Suspects, The (1995)   \n",
      "\n",
      "                                        genres  \n",
      "0  Adventure|Animation|Children|Comedy|Fantasy  \n",
      "1                               Comedy|Romance  \n",
      "2                        Action|Crime|Thriller  \n",
      "3                             Mystery|Thriller  \n",
      "4                       Crime|Mystery|Thriller  \n"
     ]
    }
   ],
   "source": [
    "\n",
    "cleaned_data = ratings_movies_full.drop(columns=['timestamp', 'tag', 'imdbId', 'tmdbId'])\n",
    "\n",
    "cleaned_data.to_csv(\"cleaned_movies_data.csv\", index=False)\n",
    "\n",
    "print(cleaned_data.head())\n"
   ]
  },
  {
   "cell_type": "code",
   "execution_count": 12,
   "metadata": {
    "colab": {
     "base_uri": "https://localhost:8080/",
     "height": 206
    },
    "id": "rYo4qssml0Vf",
    "outputId": "95e5d76f-78ce-446a-9f2e-5d9f3f1a00db"
   },
   "outputs": [
    {
     "data": {
      "text/html": [
       "<div>\n",
       "<style scoped>\n",
       "    .dataframe tbody tr th:only-of-type {\n",
       "        vertical-align: middle;\n",
       "    }\n",
       "\n",
       "    .dataframe tbody tr th {\n",
       "        vertical-align: top;\n",
       "    }\n",
       "\n",
       "    .dataframe thead th {\n",
       "        text-align: right;\n",
       "    }\n",
       "</style>\n",
       "<table border=\"1\" class=\"dataframe\">\n",
       "  <thead>\n",
       "    <tr style=\"text-align: right;\">\n",
       "      <th></th>\n",
       "      <th>userId</th>\n",
       "      <th>movieId</th>\n",
       "      <th>rating</th>\n",
       "      <th>title</th>\n",
       "      <th>genres</th>\n",
       "    </tr>\n",
       "  </thead>\n",
       "  <tbody>\n",
       "    <tr>\n",
       "      <th>0</th>\n",
       "      <td>1</td>\n",
       "      <td>1</td>\n",
       "      <td>4.0</td>\n",
       "      <td>Toy Story (1995)</td>\n",
       "      <td>Adventure|Animation|Children|Comedy|Fantasy</td>\n",
       "    </tr>\n",
       "    <tr>\n",
       "      <th>1</th>\n",
       "      <td>1</td>\n",
       "      <td>3</td>\n",
       "      <td>4.0</td>\n",
       "      <td>Grumpier Old Men (1995)</td>\n",
       "      <td>Comedy|Romance</td>\n",
       "    </tr>\n",
       "    <tr>\n",
       "      <th>2</th>\n",
       "      <td>1</td>\n",
       "      <td>6</td>\n",
       "      <td>4.0</td>\n",
       "      <td>Heat (1995)</td>\n",
       "      <td>Action|Crime|Thriller</td>\n",
       "    </tr>\n",
       "    <tr>\n",
       "      <th>3</th>\n",
       "      <td>1</td>\n",
       "      <td>47</td>\n",
       "      <td>5.0</td>\n",
       "      <td>Seven (a.k.a. Se7en) (1995)</td>\n",
       "      <td>Mystery|Thriller</td>\n",
       "    </tr>\n",
       "    <tr>\n",
       "      <th>4</th>\n",
       "      <td>1</td>\n",
       "      <td>50</td>\n",
       "      <td>5.0</td>\n",
       "      <td>Usual Suspects, The (1995)</td>\n",
       "      <td>Crime|Mystery|Thriller</td>\n",
       "    </tr>\n",
       "  </tbody>\n",
       "</table>\n",
       "</div>"
      ],
      "text/plain": [
       "   userId  movieId  rating                        title  \\\n",
       "0       1        1     4.0             Toy Story (1995)   \n",
       "1       1        3     4.0      Grumpier Old Men (1995)   \n",
       "2       1        6     4.0                  Heat (1995)   \n",
       "3       1       47     5.0  Seven (a.k.a. Se7en) (1995)   \n",
       "4       1       50     5.0   Usual Suspects, The (1995)   \n",
       "\n",
       "                                        genres  \n",
       "0  Adventure|Animation|Children|Comedy|Fantasy  \n",
       "1                               Comedy|Romance  \n",
       "2                        Action|Crime|Thriller  \n",
       "3                             Mystery|Thriller  \n",
       "4                       Crime|Mystery|Thriller  "
      ]
     },
     "execution_count": 12,
     "metadata": {},
     "output_type": "execute_result"
    }
   ],
   "source": [
    "import pandas as pd\n",
    "\n",
    "ratings = pd.read_csv(\"ratings.csv\")\n",
    "movies = pd.read_csv(\"movies.csv\")\n",
    "tags = pd.read_csv(\"tags.csv\")\n",
    "links = pd.read_csv(\"links.csv\")\n",
    "\n",
    "\n",
    "merged_df = ratings.merge(movies, on='movieId', how='left')\n",
    "merged_df = merged_df.merge(tags[['userId', 'movieId', 'tag']], on=['userId', 'movieId'], how='left')\n",
    "merged_df = merged_df.merge(links, on='movieId', how='left')\n",
    "\n",
    "cleaned_data = merged_df[['userId', 'movieId', 'rating', 'title', 'genres']].copy()\n",
    "\n",
    "cleaned_data.dropna(subset=['userId', 'movieId', 'rating', 'title', 'genres'], inplace=True)\n",
    "\n",
    "cleaned_data.head()\n"
   ]
  },
  {
   "cell_type": "markdown",
   "metadata": {
    "id": "FF22AkWPVKpm"
   },
   "source": [
    "**2) Content-Based Filtering** **Module**"
   ]
  },
  {
   "cell_type": "code",
   "execution_count": 15,
   "metadata": {
    "id": "KSfaltQwR-ui"
   },
   "outputs": [
    {
     "name": "stdout",
     "output_type": "stream",
     "text": [
      "🔍 Movie recommendations similar to 'Heat (1995)':\n",
      "\n",
      "                                    title                 genres\n",
      "25958        Bourne Ultimatum, The (2007)  Action Crime Thriller\n",
      "31997                       Batman (1989)  Action Crime Thriller\n",
      "25979                Bank Job, The (2008)  Action Crime Thriller\n",
      "70888               Equalizer, The (2014)  Action Crime Thriller\n",
      "102594                   Furious 7 (2015)  Action Crime Thriller\n",
      "19172   Die Hard: With a Vengeance (1995)  Action Crime Thriller\n",
      "48978                  Dirty Harry (1971)  Action Crime Thriller\n",
      "44965   Die Hard: With a Vengeance (1995)  Action Crime Thriller\n",
      "50875               Dead Pool, The (1988)  Action Crime Thriller\n",
      "36018   Die Hard: With a Vengeance (1995)  Action Crime Thriller\n"
     ]
    }
   ],
   "source": [
    "from sklearn.neighbors import NearestNeighbors\n",
    "from sklearn.feature_extraction.text import TfidfVectorizer\n",
    "\n",
    "# تجهيز البيانات\n",
    "movies_df = cleaned_data.copy()\n",
    "movies_df['genres'] = movies_df['genres'].str.replace('|', ' ', regex=False)\n",
    "\n",
    "tfidf = TfidfVectorizer(stop_words='english')\n",
    "tfidf_matrix = tfidf.fit_transform(movies_df['genres'])\n",
    "\n",
    "# نستخدم NearestNeighbors مع مقياس cosine\n",
    "nn = NearestNeighbors(metric='cosine', algorithm='brute')\n",
    "nn.fit(tfidf_matrix)\n",
    "\n",
    "def recommend_movies(title, df=movies_df, tfidf_matrix=tfidf_matrix, nn=nn, top_n=10):\n",
    "    if title not in df['title'].values:\n",
    "        return f\"❌ '{title}' not found in the dataset.\"\n",
    "\n",
    "    idx = df.index[df['title'] == title][0]\n",
    "    distances, indices = nn.kneighbors(tfidf_matrix[idx], n_neighbors=top_n+1)\n",
    "    \n",
    "    rec_indices = indices.flatten()[1:]  # استبعد الأول (هو نفس الفيلم)\n",
    "    return df.iloc[rec_indices][['title', 'genres']]\n",
    "\n",
    "print(\"🔍 Movie recommendations similar to 'Heat (1995)':\\n\")\n",
    "print(recommend_movies(\"Heat (1995)\"))\n"
   ]
  },
  {
   "cell_type": "code",
   "execution_count": null,
   "metadata": {},
   "outputs": [],
   "source": []
  }
 ],
 "metadata": {
  "colab": {
   "provenance": []
  },
  "kernelspec": {
   "display_name": "Python 3 (ipykernel)",
   "language": "python",
   "name": "python3"
  },
  "language_info": {
   "codemirror_mode": {
    "name": "ipython",
    "version": 3
   },
   "file_extension": ".py",
   "mimetype": "text/x-python",
   "name": "python",
   "nbconvert_exporter": "python",
   "pygments_lexer": "ipython3",
   "version": "3.13.2"
  }
 },
 "nbformat": 4,
 "nbformat_minor": 4
}
