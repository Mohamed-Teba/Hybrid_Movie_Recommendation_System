{
 "cells": [
  {
   "cell_type": "code",
   "execution_count": null,
   "id": "6a20837a-8ed9-433d-9a8e-b6d83fb13db0",
   "metadata": {},
   "outputs": [
    {
     "name": "stdout",
     "output_type": "stream",
     "text": [
      "RMSE: 0.9344\n",
      "RMSE: 0.9344438323095944\n"
     ]
    }
   ],
   "source": [
    "import pandas as pd\n",
    "from surprise import SVD, Dataset, Reader\n",
    "from surprise.model_selection import train_test_split\n",
    "from surprise.accuracy import rmse\n",
    "\n",
    "ratings = pd.read_csv(r\"cleaned_ratings.csv\")\n",
    "\n",
    "reader = Reader(rating_scale=(0.5, 5))\n",
    "data = Dataset.load_from_df(ratings[['userId', 'movieId', 'rating']], reader)\n",
    "\n",
    "trainset, testset = train_test_split(data, test_size=0.2, random_state=42)\n",
    "\n",
    "svd_model = SVD()\n",
    "svd_model.fit(trainset)\n",
    "\n",
    "predictions = svd_model.test(testset)\n",
    "\n",
    "print(\"RMSE:\", rmse(predictions))\n",
    "\n",
    "svd_preds = pd.DataFrame(predictions)\n",
    "svd_preds = svd_preds.rename(columns={'uid': 'userId', 'iid': 'movieId', 'est': 'svd_score'})\n"
   ]
  },
  {
   "cell_type": "code",
   "execution_count": null,
   "id": "efcf5576-cad9-4401-a100-e1d828e1ec91",
   "metadata": {},
   "outputs": [
    {
     "name": "stdout",
     "output_type": "stream",
     "text": [
      "Enter your user ID:  4\n"
     ]
    },
    {
     "name": "stdout",
     "output_type": "stream",
     "text": [
      "                      title  hybrid_score\n",
      "0  Conspiracy Theory (1997)           0.0\n"
     ]
    }
   ],
   "source": [
    "from sklearn.feature_extraction.text import TfidfVectorizer\n",
    "from sklearn.metrics.pairwise import cosine_similarity\n",
    "from sklearn.preprocessing import MinMaxScaler\n",
    "\n",
    "movies = pd.read_csv(r\"cleaned_movies.csv\")\n",
    "\n",
    "tfidf = TfidfVectorizer()\n",
    "tfidf_matrix = tfidf.fit_transform(movies['genres'])\n",
    "\n",
    "cos_sim = cosine_similarity(tfidf_matrix)\n",
    "\n",
    "movie_indices = pd.Series(movies.index, index=movies['movieId'])\n",
    "\n",
    "def get_content_scores(user_id, ratings_df, movies_df, sim_matrix, top_n=10):\n",
    "    user_ratings = ratings_df[ratings_df['userId'] == user_id]\n",
    "    scores = pd.Series(dtype='float64')\n",
    "\n",
    "    for _, row in user_ratings.iterrows():\n",
    "        movie_id = row['movieId']\n",
    "        rating = row['rating']\n",
    "        if movie_id in movie_indices:\n",
    "            idx = movie_indices[movie_id]\n",
    "            sim_scores = sim_matrix[idx] * rating\n",
    "            scores = scores.add(pd.Series(sim_scores, index=movies_df['movieId']), fill_value=0)\n",
    "    \n",
    "    return scores.sort_values(ascending=False).head(top_n)\n",
    "\n",
    "user_id = int(input(\"Enter your user ID: \"))\n",
    "\n",
    "content_scores = get_content_scores(user_id, ratings, movies, cos_sim, top_n=100)\n",
    "content_df = pd.DataFrame(content_scores).reset_index()\n",
    "content_df.columns = ['movieId', 'content_score']\n",
    "\n",
    "hybrid_df = pd.merge(content_df, svd_preds[svd_preds['userId'] == user_id][['movieId', 'svd_score']], on='movieId')\n",
    "\n",
    "scaler = MinMaxScaler()\n",
    "hybrid_df[['content_score', 'svd_score']] = scaler.fit_transform(hybrid_df[['content_score', 'svd_score']])\n",
    "\n",
    "alpha = 0.5\n",
    "hybrid_df['hybrid_score'] = alpha * hybrid_df['content_score'] + (1 - alpha) * hybrid_df['svd_score']\n",
    "\n",
    "recommended_movies = pd.merge(hybrid_df.sort_values(by='hybrid_score', ascending=False), movies, on='movieId')\n",
    "print(recommended_movies[['title', 'hybrid_score']].head(10))\n"
   ]
  }
 ],
 "metadata": {
  "kernelspec": {
   "display_name": "Python [conda env:base]",
   "language": "python",
   "name": "conda-base-py"
  },
  "language_info": {
   "codemirror_mode": {
    "name": "ipython",
    "version": 3
   },
   "file_extension": ".py",
   "mimetype": "text/x-python",
   "name": "python",
   "nbconvert_exporter": "python",
   "pygments_lexer": "ipython3",
   "version": "3.12.7"
  }
 },
 "nbformat": 4,
 "nbformat_minor": 5
}
